{
 "cells": [
  {
   "cell_type": "code",
   "execution_count": null,
   "metadata": {},
   "outputs": [],
   "source": [
    "print(input(\"Nama: \"))\n",
    "print(input(\"NIM: \"))\n",
    "print(input(\"Kelas: \"))"
   ]
  },
  {
   "attachments": {},
   "cell_type": "markdown",
   "metadata": {},
   "source": [
    "## 1."
   ]
  },
  {
   "attachments": {},
   "cell_type": "markdown",
   "metadata": {},
   "source": [
    "Buatlah program yang menampilkan salam “Selamat Pagi” dari berbagai negara {Inggris, Perancis, Italia, Spanyol, Jepang, Korea} dengan dua input dari user yaitu bahasa dan diikuti nama user.<br>\n",
    "<br>Ex : \n",
    "<br>\"Ohayou, Onii Chan\"\n",
    "> *note: Kerjakan soal ini dengan percabangan*"
   ]
  },
  {
   "cell_type": "code",
   "execution_count": 1,
   "metadata": {},
   "outputs": [
    {
     "name": "stdout",
     "output_type": "stream",
     "text": [
      "negara tidak terdapat dalam list\n"
     ]
    }
   ],
   "source": [
    "# Kerjakan soal nomor 1 disini\n",
    "bahasa = input('Pilih bahasa untuk mengucapkan selamat pagi : ')\n",
    "nama = input('Masukkan nama kalian : ')\n",
    "negara = ['inggris', 'prancis', 'italia', 'spayol', 'jepang', 'korea']\n",
    "salam = ['good morning', 'bonjour', 'bungiorno', 'buen dia', 'ohayo', 'joheun achimieyo']\n",
    "\n",
    "if bahasa == negara[0]:\n",
    "    print(salam[0], nama)\n",
    "elif bahasa == negara[1]:\n",
    "    print(salam[1], nama)\n",
    "elif bahasa == negara[2]:\n",
    "    print(salam[2], nama)\n",
    "elif bahasa == negara[3]:\n",
    "    print(salam[3], nama)\n",
    "elif bahasa == negara[4]:\n",
    "    print(salam[4], nama)\n",
    "elif bahasa == negara[5]:\n",
    "    print(salam[5], nama)\n",
    "else :\n",
    "    print('negara tidak terdapat dalam list')\n",
    "\n"
   ]
  },
  {
   "attachments": {},
   "cell_type": "markdown",
   "metadata": {},
   "source": [
    "## 2."
   ]
  },
  {
   "attachments": {},
   "cell_type": "markdown",
   "metadata": {},
   "source": [
    "Buatlah program perhitungan umur dengan menggunakan input user yaitu tahun lahir dari user.<br>\n",
    "<br>Output yang dihasilkan adalah sebagai berikut:\n",
    "<br>\"Apakah anda berasal dari masa depan?\"\n",
    "<br>\"Anda barusaja lahir\"\n",
    "<br>\"Umur Anda adalah xx tahun\"\n",
    "> *note: Kerjakan soal ini dengan percabangan*"
   ]
  },
  {
   "cell_type": "code",
   "execution_count": 3,
   "metadata": {},
   "outputs": [
    {
     "name": "stdout",
     "output_type": "stream",
     "text": [
      "umur anda adalah 19 tahun\n"
     ]
    }
   ],
   "source": [
    "# Kerjakan soal nomor 2 disini\n",
    "a = int(input('Masukkan tahun kelahiran anda : '))\n",
    "b = 2023 #tahun ini\n",
    "c = b-a\n",
    "\n",
    "if a > b:\n",
    "    print('apakah anda berasal dari masa depan?')\n",
    "elif a == b:\n",
    "    print('anda baru saja lahir')\n",
    "else :\n",
    "    print(f'umur anda adalah {c} tahun')"
   ]
  }
 ],
 "metadata": {
  "kernelspec": {
   "display_name": "Python 3",
   "language": "python",
   "name": "python3"
  },
  "language_info": {
   "codemirror_mode": {
    "name": "ipython",
    "version": 3
   },
   "file_extension": ".py",
   "mimetype": "text/x-python",
   "name": "python",
   "nbconvert_exporter": "python",
   "pygments_lexer": "ipython3",
   "version": "3.10.10"
  },
  "orig_nbformat": 4
 },
 "nbformat": 4,
 "nbformat_minor": 2
}
