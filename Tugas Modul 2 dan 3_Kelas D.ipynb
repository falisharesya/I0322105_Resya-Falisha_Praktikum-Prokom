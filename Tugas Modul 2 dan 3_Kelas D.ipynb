{
 "cells": [
  {
   "cell_type": "code",
   "execution_count": 1,
   "metadata": {},
   "outputs": [
    {
     "name": "stdout",
     "output_type": "stream",
     "text": [
      "\n",
      "\n",
      "\n"
     ]
    }
   ],
   "source": [
    "print(input(\"Nama:Resya Falisha\"))\n",
    "print(input(\"NIM:I0322105\"))\n",
    "print(input(\"Kelas:D\"))"
   ]
  },
  {
   "attachments": {},
   "cell_type": "markdown",
   "metadata": {},
   "source": [
    "## 1."
   ]
  },
  {
   "attachments": {},
   "cell_type": "markdown",
   "metadata": {},
   "source": [
    "diketahui dimensi sebuah aquarium tanpa penutup atas sebagai berikut:\n",
    "\n",
    "```python\n",
    "p = 11\n",
    "l = 1.99\n",
    "t = 25.87\n",
    "```\n",
    "buatkan program sederhana untuk menghitung diagonal tiap sisi dan luas permukaan aquarium tersebut tanpa menggunakan module math."
   ]
  },
  {
   "cell_type": "code",
   "execution_count": 2,
   "metadata": {},
   "outputs": [
    {
     "name": "stdout",
     "output_type": "stream",
     "text": [
      "panjang diagonal alas aquarium adalah =  11.17855536283647\n",
      "panjang diagonal depan aquarium adalah =  28.11150831954771\n",
      "panjang diagonal samping aquarium adalah =  25.946425572706545\n",
      "====================\n",
      "maka luas permukaan aquarium tanpa tutup adalah =  642.5113\n",
      "====================\n"
     ]
    }
   ],
   "source": [
    "#soal = diketahui dimensi sebuah aquarium tanpa penutup atas sebagai berikut:jika\n",
    "p = 11\n",
    "l = 1.99\n",
    "t = 25.87\n",
    "#ditanya = buatkan program sederhana untuk menghitung diagonal tiap sisi dan luas permukaan aquarium tanpa menggunakan module math\n",
    "\n",
    "#mencari nilai diagonal untuk setiap sisi\n",
    "diagonal_alas_aquarium = float((p**2+l**2)**0.5)\n",
    "diagonal_depan_aquarium = float((p**2 + t**2)**0.5)\n",
    "diagonal_samping_aquarium = float ((l**2+t**2)**0.5)\n",
    "print(\"panjang diagonal alas aquarium adalah = \", diagonal_alas_aquarium)\n",
    "print(\"panjang diagonal depan aquarium adalah = \", diagonal_depan_aquarium)\n",
    "print(\"panjang diagonal samping aquarium adalah = \", diagonal_samping_aquarium)\n",
    "print(\"====================\")\n",
    "\n",
    "#mencari luas permukaan aquarium\n",
    "Luas_permukaan_aquarium = float((p*l) + 2*(p*t)+(l*t))\n",
    "print(\"maka luas permukaan aquarium tanpa tutup adalah = \", Luas_permukaan_aquarium)\n",
    "print(\"====================\")"
   ]
  },
  {
   "attachments": {},
   "cell_type": "markdown",
   "metadata": {},
   "source": [
    "## 2."
   ]
  },
  {
   "attachments": {},
   "cell_type": "markdown",
   "metadata": {},
   "source": [
    "diberikan data nilai mahasiswa sebagai berikut:"
   ]
  },
  {
   "cell_type": "code",
   "execution_count": 1,
   "metadata": {},
   "outputs": [],
   "source": [
    "nilai = {\n",
    "    'Frank': 80,\n",
    "    'Abagnale': 75,\n",
    "    'Cobb': 90,\n",
    "    'Andy Dufresne': 85,\n",
    "    'Ariadne': 70\n",
    "}"
   ]
  },
  {
   "attachments": {},
   "cell_type": "markdown",
   "metadata": {},
   "source": [
    "buatlah program sederhana untuk menghitung nilai rata-rata semua mahasiswa dan mencari siapa yang mendapatkan nilai tertinggi dan nilai terendah. \n",
    "> *note: tidak perlu menggunakan loops untuk membuat program nya*"
   ]
  },
  {
   "cell_type": "code",
   "execution_count": 4,
   "metadata": {},
   "outputs": [
    {
     "name": "stdout",
     "output_type": "stream",
     "text": [
      "nilai rata-rata dari semua nilai mahasiswa =  80.0\n",
      "nilai terendah dari semua nilai mahasiswa yaitu Ariadne =  70\n",
      "nilai tertinggi dari semua nilai mahasiswa yaitu Cobb=  90\n"
     ]
    }
   ],
   "source": [
    "#soal = \n",
    "nilai = {\n",
    "    'Frank': 80,\n",
    "    'Abagnale': 75,\n",
    "    'Cobb': 90,\n",
    "    'Andy Dufresne': 85,\n",
    "    'Ariadne': 70\n",
    "}\n",
    "#ditanya = buatlah program sederhana untuk menghitung nilai rata-rata semua mahasiswa dan mencari siapa yang mendapatkan nilai tertinggi dan nilai terendah\n",
    "\n",
    "#mencari rata-rata nilai mahasiswa\n",
    "rata_rata = float(sum(nilai.values())/len(nilai.values()))\n",
    "print(\"nilai rata-rata dari semua nilai mahasiswa = \", rata_rata)\n",
    "\n",
    "#mencari nilai terendah nilai mahasiswa\n",
    "nilai_terendah = min(nilai.values())\n",
    "print(\"nilai terendah dari semua nilai mahasiswa yaitu Ariadne = \", nilai_terendah)\n",
    "\n",
    "#mencari nilai tertinggi nilai mahasiswa\n",
    "nilai_tertinggi = max(nilai.values())\n",
    "print(\"nilai tertinggi dari semua nilai mahasiswa yaitu Cobb= \", nilai_tertinggi)"
   ]
  },
  {
   "attachments": {},
   "cell_type": "markdown",
   "metadata": {},
   "source": [
    "## 3. "
   ]
  },
  {
   "attachments": {},
   "cell_type": "markdown",
   "metadata": {},
   "source": [
    "diberikan list aslab sebagai berikut:\n",
    "```python\n",
    "list_aslab = [\n",
    "    {\"nama\": \"Berlian Safri Prakoso\", \"nim\": \"I0320017\", \"kontak\": \"0858XXXXXXXX\"},\n",
    "    {\"nama\": \"Halidya Siti Hanifah\", \"nim\": \"I0320044\", \"kontak\": \"0878XXXXXXXX\"},\n",
    "    {\"nama\": \"Nurki Putra Mahardika\", \"nim\": \"I0320076\", \"kontak\": \"0877XXXXXXXX\"},\n",
    "    {\"nama\": \"Aji Manarul Aziz\", \"nim\": \"I0320119\", \"kontak\": \"0812XXXXXXXX\"},\n",
    "    {\"nama\": \"Alica Ayu Fitriani\", \"nim\": \"I0320121\", \"kontak\": \"0896XXXXXXXX\"},\n",
    "    {\"nama\": \"Dendy Halim Kusuma\", \"nim\": \"I0320125\", \"kontak\": \"0822XXXXXXXX\"}\n",
    "]\n",
    "```\n",
    "* **A** Tuliskan kode untuk mengakses informasi tentang \"nama\" dari semua aslab mulai dari index 1 sampai 5\n",
    "* **B** Tambahkan informasi berikut pada data aslab:\n",
    "```python\n",
    "    surel = [\"berlian@student.uns.ac.id\",\n",
    "          \"halidya@student.uns.ac.id\",\n",
    "          \"nurki@student.uns.ac.id\",\n",
    "          \"manarul@student.uns.ac.id\",\n",
    "          \"alica@student.uns.ac.id\",\n",
    "          \"dendy@student.uns.ac.id\"]\n",
    "```\n",
    "> *note: kalian hanya boleh menggunakan key-value pair yang disebutkan di dalam teks, tanpa menggunakan informasi tambahan yang diambil pada list yang ada*"
   ]
  },
  {
   "cell_type": "code",
   "execution_count": 5,
   "metadata": {},
   "outputs": [
    {
     "name": "stdout",
     "output_type": "stream",
     "text": [
      "Halidya Siti Hanifah\n",
      "Nurki Putra Mahardika\n",
      "Aji Manarul Aziz\n",
      "Alica Ayu Fitriani\n",
      "Dendy Halim Kusuma\n",
      "====================\n",
      "{'nama': 'Berlian Safri Prakoso', 'nim': 'I0320017', 'kontak': '0858XXXXXXXX', 'surel': 'berlian@student.uns.ac.id'}\n",
      "{'nama': 'Halidya Siti Hanifah', 'nim': 'I0320044', 'kontak': '0878XXXXXXXX', 'surel': 'halidya@student.uns.ac.id'}\n",
      "{'nama': 'Nurki Putra Mahardika', 'nim': 'I0320076', 'kontak': '0877XXXXXXXX', 'surel': 'nurki@student.uns.ac.id'}\n",
      "{'nama': 'Aji Manarul Aziz', 'nim': 'I0320119', 'kontak': '0812XXXXXXXX', 'surel': 'manarul@student.uns.ac.id'}\n",
      "{'nama': 'Alica Ayu Fitriani', 'nim': 'I0320121', 'kontak': '0896XXXXXXXX', 'surel': 'alica@student.uns.ac.id'}\n",
      "{'nama': 'Dendy Halim Kusuma', 'nim': 'I0320125', 'kontak': '0822XXXXXXXX', 'surel': 'dendy@student.uns.ac.id'}\n"
     ]
    }
   ],
   "source": [
    "#soal =\n",
    "list_aslab = [\n",
    "    {\"nama\": \"Berlian Safri Prakoso\", \"nim\": \"I0320017\", \"kontak\": \"0858XXXXXXXX\"},\n",
    "    {\"nama\": \"Halidya Siti Hanifah\", \"nim\": \"I0320044\", \"kontak\": \"0878XXXXXXXX\"},\n",
    "    {\"nama\": \"Nurki Putra Mahardika\", \"nim\": \"I0320076\", \"kontak\": \"0877XXXXXXXX\"},\n",
    "    {\"nama\": \"Aji Manarul Aziz\", \"nim\": \"I0320119\", \"kontak\": \"0812XXXXXXXX\"},\n",
    "    {\"nama\": \"Alica Ayu Fitriani\", \"nim\": \"I0320121\", \"kontak\": \"0896XXXXXXXX\"},\n",
    "    {\"nama\": \"Dendy Halim Kusuma\", \"nim\": \"I0320125\", \"kontak\": \"0822XXXXXXXX\"}\n",
    "]\n",
    "surel = [\"berlian@student.uns.ac.id\",\n",
    "          \"halidya@student.uns.ac.id\",\n",
    "          \"nurki@student.uns.ac.id\",\n",
    "          \"manarul@student.uns.ac.id\",\n",
    "          \"alica@student.uns.ac.id\",\n",
    "          \"dendy@student.uns.ac.id\"]\n",
    "#ditanya = A. tuliskan kode untuk mengakses informasi tentang \"nama\" dari semua aslab dari index 1 sampai 5 dan B.tambahkan informasi berikut pada data aslab\n",
    "\n",
    "#A tuliskan kode untuk mengakses informasi tentang \"nama\" dari semua aslab mulai dari index 1 sampai 5\n",
    "for y in range (1,6) :\n",
    "    print(list_aslab[y][\"nama\"])\n",
    "   \n",
    "print(\"====================\")\n",
    "#B Tambahkan informasi pada data aslab \n",
    "for y in range (len(list_aslab)) :\n",
    "    list_aslab[y][\"surel\"]= surel[y]\n",
    "for list_aslab_email in list_aslab :\n",
    "    print(list_aslab_email)\n",
    "\n"
   ]
  }
 ],
 "metadata": {
  "kernelspec": {
   "display_name": "Python 3",
   "language": "python",
   "name": "python3"
  },
  "language_info": {
   "codemirror_mode": {
    "name": "ipython",
    "version": 3
   },
   "file_extension": ".py",
   "mimetype": "text/x-python",
   "name": "python",
   "nbconvert_exporter": "python",
   "pygments_lexer": "ipython3",
   "version": "3.10.10"
  },
  "orig_nbformat": 4,
  "vscode": {
   "interpreter": {
    "hash": "5addf786bcd861d1ce5006f23111f8cbb206731e5b61b0a5632ba9e0252558a8"
   }
  }
 },
 "nbformat": 4,
 "nbformat_minor": 2
}
